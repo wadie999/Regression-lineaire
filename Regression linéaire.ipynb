{
 "cells": [
  {
   "cell_type": "code",
   "execution_count": 1,
   "id": "67183d24",
   "metadata": {},
   "outputs": [],
   "source": [
    "import pandas as pd\n",
    "import matplotlib.pyplot as plt\n",
    "import matplotlib.lines as lines\n",
    "import numpy as np \n",
    "import decimal"
   ]
  },
  {
   "cell_type": "code",
   "execution_count": 2,
   "id": "414bfb5b",
   "metadata": {},
   "outputs": [],
   "source": [
    "Alt=[3500,2800,1300,750,300,900,1800,3100]\n",
    "Temp1=[10,13,20,25,30,22,18,11]\n",
    "Temp2=[-15,-11,0,3,10,2,-2,-13]"
   ]
  },
  {
   "cell_type": "code",
   "execution_count": 3,
   "id": "d7b052ff",
   "metadata": {},
   "outputs": [],
   "source": [
    "df = pd.DataFrame({'Altitude':Alt, 'Temperature_ete':Temp1,'Temperature_hiver':Temp2})\n",
    "df.to_csv('Table.csv', index=False)"
   ]
  },
  {
   "cell_type": "code",
   "execution_count": 4,
   "id": "a785fe28",
   "metadata": {},
   "outputs": [
    {
     "data": {
      "text/html": [
       "<div>\n",
       "<style scoped>\n",
       "    .dataframe tbody tr th:only-of-type {\n",
       "        vertical-align: middle;\n",
       "    }\n",
       "\n",
       "    .dataframe tbody tr th {\n",
       "        vertical-align: top;\n",
       "    }\n",
       "\n",
       "    .dataframe thead th {\n",
       "        text-align: right;\n",
       "    }\n",
       "</style>\n",
       "<table border=\"1\" class=\"dataframe\">\n",
       "  <thead>\n",
       "    <tr style=\"text-align: right;\">\n",
       "      <th></th>\n",
       "      <th>Altitude</th>\n",
       "      <th>Temperature_ete</th>\n",
       "      <th>Temperature_hiver</th>\n",
       "    </tr>\n",
       "  </thead>\n",
       "  <tbody>\n",
       "    <tr>\n",
       "      <th>0</th>\n",
       "      <td>3500</td>\n",
       "      <td>10</td>\n",
       "      <td>-15</td>\n",
       "    </tr>\n",
       "    <tr>\n",
       "      <th>1</th>\n",
       "      <td>2800</td>\n",
       "      <td>13</td>\n",
       "      <td>-11</td>\n",
       "    </tr>\n",
       "    <tr>\n",
       "      <th>2</th>\n",
       "      <td>1300</td>\n",
       "      <td>20</td>\n",
       "      <td>0</td>\n",
       "    </tr>\n",
       "    <tr>\n",
       "      <th>3</th>\n",
       "      <td>750</td>\n",
       "      <td>25</td>\n",
       "      <td>3</td>\n",
       "    </tr>\n",
       "    <tr>\n",
       "      <th>4</th>\n",
       "      <td>300</td>\n",
       "      <td>30</td>\n",
       "      <td>10</td>\n",
       "    </tr>\n",
       "    <tr>\n",
       "      <th>5</th>\n",
       "      <td>900</td>\n",
       "      <td>22</td>\n",
       "      <td>2</td>\n",
       "    </tr>\n",
       "    <tr>\n",
       "      <th>6</th>\n",
       "      <td>1800</td>\n",
       "      <td>18</td>\n",
       "      <td>-2</td>\n",
       "    </tr>\n",
       "    <tr>\n",
       "      <th>7</th>\n",
       "      <td>3100</td>\n",
       "      <td>11</td>\n",
       "      <td>-13</td>\n",
       "    </tr>\n",
       "  </tbody>\n",
       "</table>\n",
       "</div>"
      ],
      "text/plain": [
       "   Altitude  Temperature_ete  Temperature_hiver\n",
       "0      3500               10                -15\n",
       "1      2800               13                -11\n",
       "2      1300               20                  0\n",
       "3       750               25                  3\n",
       "4       300               30                 10\n",
       "5       900               22                  2\n",
       "6      1800               18                 -2\n",
       "7      3100               11                -13"
      ]
     },
     "execution_count": 4,
     "metadata": {},
     "output_type": "execute_result"
    }
   ],
   "source": [
    "df"
   ]
  },
  {
   "cell_type": "code",
   "execution_count": 5,
   "id": "95ae32d7",
   "metadata": {},
   "outputs": [
    {
     "data": {
      "image/png": "[encoded data removed]",
      "text/plain": [
       "<Figure size 640x480 with 1 Axes>"
      ]
     },
     "metadata": {},
     "output_type": "display_data"
    }
   ],
   "source": [
    "fig = plt.figure()\n",
    "ax1 = fig.add_subplot(111)\n",
    "x=df.Altitude.values\n",
    "y1=df.Temperature_ete.values\n",
    "y2=df.Temperature_hiver.values\n",
    "ax1.scatter(x, y1, s=10, c='r', marker=\"o\", label='Temperature_ete')\n",
    "ax1.scatter(x, y2, s=10, c='b', marker=\"o\", label='Temperature_hivers')\n",
    "plt.legend(loc='upper right')\n",
    "plt.show()"
   ]
  },
  {
   "cell_type": "markdown",
   "id": "10ce6724",
   "metadata": {},
   "source": [
    "# Methode 1 :Moindres Carres\n"
   ]
  },
  {
   "cell_type": "markdown",
   "id": "b4b613c3",
   "metadata": {},
   "source": [
    "On dispose de $X$ variable aleatoire des temperatures, et $Y$ la variable aleatoire explicative ,ainsi que 8 realisations (DataFame df) \n",
    "Pour chaque relation $i$ on a $ y_i=ax_i+b+e_i$ avec :\n",
    "\n",
    "$e_i$ : le terme d'erreur\n",
    "\n",
    "$x_i$ : l'altitude\n",
    "\n",
    "$y_i$ : La temperature\n",
    "\n",
    "\n",
    "On recherche $a$,$b$, les estimateurs des Moindres Carres Ordinaires les valeurs minimisant la quantite l’erreur totale:\n",
    "\n",
    "$Err(a,b)=\\sum_{n=1}^{8} {e_i}^2 = \\sum_{n=1}^{8} ({y_i-ax_i-b})^2 $\n",
    " \n",
    "le minimum existe pour des valeurs de a et b telle que $grad(Err)=0$ ce qui donne :\n",
    "\n",
    "\n",
    " $a=\\frac{n \\sum_{i=1}^{n} {x_i.y_i} - \\sum_{i=1}^{n} {x_i}.\\sum_{i=1}^{n} {y_i}}{n.\\sum_{i=1}^{n} {x_i^2}-(\\sum_{i=1}^{n} {x_i})^2}$\n",
    " \n",
    "$ b=\\frac{\\sum_{i=1}^{n} {y_i}}{n}-a.\\frac{\\sum_{i=1}^{n} {x_i}}{n}$\n",
    "\n",
    "Ayant calcule les parametres avec les donnees (training). On peut utiliser notre modele pour faire de la prediction :\n",
    "\n",
    "$y = f(x) = ax + b$.\n",
    "\n"
   ]
  },
  {
   "cell_type": "code",
   "execution_count": 6,
   "id": "c24ea97e",
   "metadata": {},
   "outputs": [
    {
     "name": "stdout",
     "output_type": "stream",
     "text": [
      "-0.005772634870992963 29.05182173573104\n",
      "-0.007324472243940579 9.97982799061767\n"
     ]
    }
   ],
   "source": [
    "sommex=0\n",
    "sommex2=0\n",
    "sommey1=0\n",
    "sommey2=0\n",
    "sommexy1=0\n",
    "sommexy2=0\n",
    "for alt in Alt:\n",
    "    sommex=sommex+alt\n",
    "    sommex2=sommex2+alt**2\n",
    "for tmp in Temp1:\n",
    "        sommey1=sommey1+tmp\n",
    "for tmp in Temp2:\n",
    "        sommey2=sommey2+tmp\n",
    "for tmp,alt in zip(Temp1,Alt):\n",
    "        sommexy1=sommexy1+alt*tmp\n",
    "for tmp,alt in zip(Temp2,Alt):\n",
    "        sommexy2=sommexy2+alt*tmp\n",
    "\n",
    "n=len(Alt)\n",
    "a1=(n*sommexy1-(sommex*sommey1))/(n*sommex2-(sommex**2))\n",
    "b1=sommey1/n - a1*(sommex/n)\n",
    "\n",
    "a2=(n*sommexy2-(sommex*sommey2))/(n*sommex2-(sommex**2))\n",
    "b2=sommey2/n - a2*(sommex/n)\n",
    "print(a1,b1)\n",
    "print(a2,b2)\n",
    "\n"
   ]
  },
  {
   "cell_type": "markdown",
   "id": "b12d9984",
   "metadata": {},
   "source": [
    "\n",
    " \n",
    "Voici le graphe du resultat :"
   ]
  },
  {
   "cell_type": "code",
   "execution_count": 7,
   "id": "1a0a421d",
   "metadata": {},
   "outputs": [
    {
     "data": {
      "image/png": "[encoded data removed]",
      "text/plain": [
       "<Figure size 640x480 with 1 Axes>"
      ]
     },
     "metadata": {},
     "output_type": "display_data"
    }
   ],
   "source": [
    "fig = plt.figure()\n",
    "ax1 = fig.add_subplot(111)\n",
    "x=df.Altitude.values\n",
    "y1=df.Temperature_ete.values\n",
    "regression_hiver=[a1*x+b1 for x in Alt]\n",
    "regression_ete=[a1*x+b1 for x in Alt]\n",
    "ax1.scatter(x, y1, s=10, c='r', marker=\"o\", label='Temperature_ete')\n",
    "ax1.scatter(x, y2, s=10, c='b', marker=\"o\", label='Temperature_hiver')\n",
    "plt.plot(x, a2*x+b2)\n",
    "plt.plot(x, a1*x+b1)\n",
    "plt.legend(loc='upper right')\n",
    "plt.show()"
   ]
  },
  {
   "cell_type": "markdown",
   "id": "f3c9e4e5",
   "metadata": {},
   "source": [
    "# Methode 2 : Maximum de vraisemblance"
   ]
  },
  {
   "cell_type": "markdown",
   "id": "c21be379",
   "metadata": {},
   "source": [
    "$min_{a,b,\\sigma}L(a,b,\\sigma)= \\sum_{i=1}^{n} \\frac{1}{\\sigma\\sqrt{2\\pi}}e^{-\\frac{1}{2}(\\frac{y_i-ax_i-b}{\\sigma})^2}$"
   ]
  },
  {
   "cell_type": "markdown",
   "id": "03945e2b",
   "metadata": {},
   "source": [
    "Calcul de $\\sigma^2=\\frac{1}{n}\\sum_{i=1}^{n}(y_i-ax_i-b)^2$"
   ]
  },
  {
   "cell_type": "code",
   "execution_count": 10,
   "id": "9c9b8b32",
   "metadata": {},
   "outputs": [
    {
     "name": "stdout",
     "output_type": "stream",
     "text": [
      "1.36483537686497 1.1958358816429882\n",
      "0.6699234773617412 1.400597090508421\n"
     ]
    }
   ],
   "source": [
    "sigma1=0\n",
    "sigma2=0\n",
    "z1=0\n",
    "z2=0\n",
    "for x,y in zip(Alt,Temp1):\n",
    "    z1=z1+(y-a1*x-b1)**2\n",
    "for x,y in zip(Alt,Temp2):\n",
    "    z2=z2+(y-a2*x-b2)**2\n",
    "sigma1=(z1/len(Alt))**0.5\n",
    "sigma2=(z2/len(Alt))**0.5\n",
    "print(sigma1,sigma2)\n",
    "l1=0\n",
    "l2=0\n",
    "for x,y in zip(Alt,Temp1):\n",
    "    l1=l1+np.exp(-0.5*(((y-a1*x-b1)**2)/sigma1))**22\n",
    "for x,y in zip(Alt,Temp2):\n",
    "    l2=l2+np.exp(-0.5*(((y-a2*x-b2)**2)/sigma1))**2\n",
    "l1=1/((2*np.pi)**0.5*sigma1)*l1\n",
    "l2=1/((2*np.pi)**0.5*sigma2)*l2\n",
    "print(l1,l2)"
   ]
  },
  {
   "cell_type": "markdown",
   "id": "e17579f1",
   "metadata": {},
   "source": [
    "# Methode 3 :Optimisation"
   ]
  },
  {
   "cell_type": "markdown",
   "id": "65f80ade",
   "metadata": {},
   "source": [
    "On veux minimiser la valeur de $J(a,b)=\\frac{1}{2n}\\sum_{i=1}^{n}(ax_i+b-y_i)^2$"
   ]
  },
  {
   "cell_type": "code",
   "execution_count": 11,
   "id": "9697d949",
   "metadata": {},
   "outputs": [],
   "source": [
    "def J(X,Y,a,b):\n",
    "    n=len(X)\n",
    "    j=0\n",
    "    for x,y in zip(X,Y):\n",
    "        j=j+(a*x+b-y)**2\n",
    "    j=j/(2*n)\n",
    "    return j"
   ]
  },
  {
   "cell_type": "code",
   "execution_count": 12,
   "id": "2e6027e5",
   "metadata": {},
   "outputs": [
    {
     "data": {
      "text/plain": [
       "0.9313878029710723"
      ]
     },
     "execution_count": 12,
     "metadata": {},
     "output_type": "execute_result"
    }
   ],
   "source": [
    "J(Alt,Temp1,a1,b1)"
   ]
  },
  {
   "cell_type": "markdown",
   "id": "5b99098b",
   "metadata": {},
   "source": [
    "la differentiel de J par rapport a la variable a"
   ]
  },
  {
   "cell_type": "code",
   "execution_count": 13,
   "id": "b46a8dae",
   "metadata": {},
   "outputs": [],
   "source": [
    "def Dja(X,Y,a,b):   \n",
    "    n=len(X)\n",
    "    dja=0\n",
    "    for x,y in zip(X,Y):\n",
    "        dja=dja+x*(a*x+b-y)\n",
    "    dja=dja/n\n",
    "    return dja"
   ]
  },
  {
   "cell_type": "code",
   "execution_count": 26,
   "id": "5c46378b",
   "metadata": {},
   "outputs": [
    {
     "data": {
      "text/plain": [
       "9.450218385609332e-13"
      ]
     },
     "execution_count": 26,
     "metadata": {},
     "output_type": "execute_result"
    }
   ],
   "source": [
    "Dja(Alt,Temp1,-0.005772634870992963,29.05182173573104)"
   ]
  },
  {
   "cell_type": "markdown",
   "id": "c04615c3",
   "metadata": {},
   "source": [
    "la differentiel de J par rapport a la variable b"
   ]
  },
  {
   "cell_type": "code",
   "execution_count": 15,
   "id": "0244c629",
   "metadata": {},
   "outputs": [],
   "source": [
    "def Djb(X,Y,a,b):\n",
    "    n=len(X)\n",
    "    djb=0\n",
    "    for x,y in zip(X,Y):\n",
    "        djb=djb+a*x+b-y\n",
    "    djb=djb/n\n",
    "    return djb"
   ]
  },
  {
   "cell_type": "code",
   "execution_count": 27,
   "id": "23f41c7c",
   "metadata": {},
   "outputs": [
    {
     "data": {
      "text/plain": [
       "9.450218385609332e-13"
      ]
     },
     "execution_count": 27,
     "metadata": {},
     "output_type": "execute_result"
    }
   ],
   "source": [
    "Dja(Alt,Temp1,-0.005772634870992963,29.05182173573104)"
   ]
  },
  {
   "cell_type": "code",
   "execution_count": 17,
   "id": "f383ff7a",
   "metadata": {},
   "outputs": [],
   "source": [
    "u=0.5"
   ]
  },
  {
   "cell_type": "code",
   "execution_count": 28,
   "id": "a6df5418",
   "metadata": {},
   "outputs": [],
   "source": [
    "def gradient(X,Y,u):\n",
    "    a=0\n",
    "    b=0\n",
    "    a1=a-u*Dja(X,Y,a,b)\n",
    "    b1=b-u*Djb(X,Y,a,b)\n",
    "    print(a1,b1)\n",
    "    c=0\n",
    "    while(abs(J(X,Y,a1,b1)-J(X,Y,a,b))>=np.exp(-3)):\n",
    "        a_tmp=a1\n",
    "        b_tmp=b1\n",
    "        print(u*Dja(X,Y,a_tmp,b_tmp))\n",
    "        a1=a_tmp-u*Dja(X,Y,a_tmp,b_tmp)\n",
    "        b1=b_tmp-u*Djb(X,Y,a_tmp,b_tmp)\n",
    "    return (a1,b1)\n",
    "        "
   ]
  },
  {
   "cell_type": "code",
   "execution_count": null,
   "id": "6c7ea9b3",
   "metadata": {},
   "outputs": [],
   "source": []
  },
  {
   "cell_type": "code",
   "execution_count": null,
   "id": "f4b00876",
   "metadata": {},
   "outputs": [],
   "source": []
  }
 ],
 "metadata": {
  "kernelspec": {
   "display_name": "Python 3 (ipykernel)",
   "language": "python",
   "name": "python3"
  },
  "language_info": {
   "codemirror_mode": {
    "name": "ipython",
    "version": 3
   },
   "file_extension": ".py",
   "mimetype": "text/x-python",
   "name": "python",
   "nbconvert_exporter": "python",
   "pygments_lexer": "ipython3",
   "version": "3.11.0rc2"
  }
 },
 "nbformat": 4,
 "nbformat_minor": 5
}
